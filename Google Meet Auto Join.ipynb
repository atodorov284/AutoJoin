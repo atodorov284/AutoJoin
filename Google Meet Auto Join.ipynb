{
 "cells": [
  {
   "cell_type": "code",
   "execution_count": null,
   "metadata": {},
   "outputs": [],
   "source": [
    "import webbrowser\n",
    "from selenium import webdriver\n",
    "import time\n",
    "import pyautogui\n",
    "\n",
    "mail_address='your_gmail_here'\n",
    "password='your_password_here'\n",
    "#Login link for Google\n",
    "url = 'https://accounts.google.com/ServiceLogin/identifier?elo=1&flowName=GlifWebSignIn&flowEntry=AddSession'\n",
    "\n",
    "options = webdriver.ChromeOptions()\n",
    "options.add_argument('--ignore-certificate-errors')\n",
    "options.add_argument(\"--test-type\")\n",
    "#Access to microphone and camera\n",
    "options.add_experimental_option(\"prefs\", { \\\n",
    "    \"profile.default_content_setting_values.media_stream_mic\": 1, \n",
    "    \"profile.default_content_setting_values.media_stream_camera\": 1,\n",
    "    \"profile.default_content_setting_values.geolocation\": 1, \n",
    "    \"profile.default_content_setting_values.notifications\": 1 \n",
    "  })\n",
    "\n",
    "\n",
    "driver = webdriver.Chrome(r'C:\\Users\\User\\Downloads\\chromedriver.exe', options=options)\n",
    "\n",
    "driver.get(url)\n",
    "driver.find_element_by_id(\"identifierId\").send_keys(mail_address)\n",
    "driver.find_element_by_id(\"identifierNext\").click()\n",
    "time.sleep(7)\n",
    "driver.find_element_by_xpath('//input[@type=\"password\"]').send_keys(password)\n",
    "driver.find_element_by_xpath('//*[@id=\"passwordNext\"]').click()\n",
    "time.sleep(3)\n",
    "\n",
    "#Google meets link\n",
    "driver.get(\"https://meet.google.com/kix-ovyx-cdy\")\n",
    "time.sleep(5)\n",
    "#Disabling camera and microphone\n",
    "pyautogui.hotkey('ctrl', 'd')\n",
    "pyautogui.hotkey('ctrl', 'e')\n",
    "time.sleep(2)\n",
    "\n",
    "button = driver.find_element_by_xpath('//*[@id=\"yDmH0d\"]/c-wiz/div/div/div[3]/div[3]/div/div[2]/div/div[2]/div/div[2]/div/div[1]/div[1]')\n",
    "button.click()"
   ]
  },
  {
   "cell_type": "code",
   "execution_count": null,
   "metadata": {},
   "outputs": [],
   "source": []
  }
 ],
 "metadata": {
  "kernelspec": {
   "display_name": "Python 3",
   "language": "python",
   "name": "python3"
  },
  "language_info": {
   "codemirror_mode": {
    "name": "ipython",
    "version": 3
   },
   "file_extension": ".py",
   "mimetype": "text/x-python",
   "name": "python",
   "nbconvert_exporter": "python",
   "pygments_lexer": "ipython3",
   "version": "3.7.6"
  }
 },
 "nbformat": 4,
 "nbformat_minor": 4
}
